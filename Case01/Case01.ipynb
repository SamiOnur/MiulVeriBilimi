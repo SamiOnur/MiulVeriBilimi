{
 "cells": [
  {
   "cell_type": "markdown",
   "id": "36014dad-2162-4dd8-8eec-e64f4c65d8dd",
   "metadata": {},
   "source": [
    "# Görev 1: Verilen değerlerin veri yapılarını inceleyiniz."
   ]
  },
  {
   "cell_type": "code",
   "execution_count": 1,
   "id": "db59b45f-8366-4548-85a8-e50b06bd857c",
   "metadata": {
    "tags": []
   },
   "outputs": [
    {
     "data": {
      "text/plain": [
       "int"
      ]
     },
     "execution_count": 1,
     "metadata": {},
     "output_type": "execute_result"
    }
   ],
   "source": [
    "x = 8 \n",
    "type(x)"
   ]
  },
  {
   "cell_type": "code",
   "execution_count": 2,
   "id": "dcd40865-8e0d-4c5e-a448-e83d4f176d95",
   "metadata": {
    "tags": []
   },
   "outputs": [
    {
     "data": {
      "text/plain": [
       "float"
      ]
     },
     "execution_count": 2,
     "metadata": {},
     "output_type": "execute_result"
    }
   ],
   "source": [
    "y = 3.2\n",
    "type(y)"
   ]
  },
  {
   "cell_type": "code",
   "execution_count": 3,
   "id": "5bfca729-8e08-4186-863b-e4582298a110",
   "metadata": {
    "tags": []
   },
   "outputs": [
    {
     "data": {
      "text/plain": [
       "complex"
      ]
     },
     "execution_count": 3,
     "metadata": {},
     "output_type": "execute_result"
    }
   ],
   "source": [
    "z = 8j + 18\n",
    "type(z)"
   ]
  },
  {
   "cell_type": "code",
   "execution_count": 4,
   "id": "64331c7d-3d27-459e-8882-aeac69aac0ff",
   "metadata": {
    "tags": []
   },
   "outputs": [
    {
     "data": {
      "text/plain": [
       "str"
      ]
     },
     "execution_count": 4,
     "metadata": {},
     "output_type": "execute_result"
    }
   ],
   "source": [
    "a  = \"Hello World\"\n",
    "type(a)"
   ]
  },
  {
   "cell_type": "code",
   "execution_count": 5,
   "id": "8838ff5d-0f75-40bd-8219-7ee6eac06151",
   "metadata": {
    "tags": []
   },
   "outputs": [
    {
     "data": {
      "text/plain": [
       "bool"
      ]
     },
     "execution_count": 5,
     "metadata": {},
     "output_type": "execute_result"
    }
   ],
   "source": [
    "b = True\n",
    "type(b)"
   ]
  },
  {
   "cell_type": "code",
   "execution_count": 6,
   "id": "81b9f09d-25b8-439b-9056-df94d91c7ff1",
   "metadata": {
    "tags": []
   },
   "outputs": [
    {
     "data": {
      "text/plain": [
       "bool"
      ]
     },
     "execution_count": 6,
     "metadata": {},
     "output_type": "execute_result"
    }
   ],
   "source": [
    "c = 23 < 22\n",
    "type(c)"
   ]
  },
  {
   "cell_type": "code",
   "execution_count": 7,
   "id": "12cea67f-3d11-4920-bbf0-0ade9efb5fcf",
   "metadata": {
    "tags": []
   },
   "outputs": [
    {
     "data": {
      "text/plain": [
       "list"
      ]
     },
     "execution_count": 7,
     "metadata": {},
     "output_type": "execute_result"
    }
   ],
   "source": [
    "l = [1, 2, 3, 4]\n",
    "type(l)"
   ]
  },
  {
   "cell_type": "code",
   "execution_count": 8,
   "id": "d2c7c952-a18d-4322-8892-2d12a855079a",
   "metadata": {
    "tags": []
   },
   "outputs": [
    {
     "data": {
      "text/plain": [
       "dict"
      ]
     },
     "execution_count": 8,
     "metadata": {},
     "output_type": "execute_result"
    }
   ],
   "source": [
    "d = {\"Name\" : \"Jake\",\n",
    "     \"Age\" : 27,\n",
    "     \"Adress\" : \"Downtown\"}\n",
    "type(d)"
   ]
  },
  {
   "cell_type": "code",
   "execution_count": 9,
   "id": "fbe26b01-0fc2-4882-9fa8-fe9bc7bfd910",
   "metadata": {
    "tags": []
   },
   "outputs": [
    {
     "data": {
      "text/plain": [
       "tuple"
      ]
     },
     "execution_count": 9,
     "metadata": {},
     "output_type": "execute_result"
    }
   ],
   "source": [
    "t = (\"Machine Learning\", \"Data Science\")\n",
    "type(t)"
   ]
  },
  {
   "cell_type": "code",
   "execution_count": 10,
   "id": "116709be-5176-4ed2-8b8f-19a9a00b6155",
   "metadata": {
    "tags": []
   },
   "outputs": [
    {
     "data": {
      "text/plain": [
       "set"
      ]
     },
     "execution_count": 10,
     "metadata": {},
     "output_type": "execute_result"
    }
   ],
   "source": [
    "s = {\"Python\",\"Machine Learning\", \"Data Science\"}\n",
    "type(s)"
   ]
  },
  {
   "cell_type": "markdown",
   "id": "61c7ef6d-8df6-4c08-914d-46ffdfae9dbd",
   "metadata": {},
   "source": [
    "# Görev 2: Verilen string ifadenin tüm harflerini büyük harfe çeviriniz. Virgül ve nokta yerine space koyunuz, kelime kelime ayırınız."
   ]
  },
  {
   "cell_type": "code",
   "execution_count": 11,
   "id": "b2ec4b5b-fb89-4c4e-afc2-a39567a46906",
   "metadata": {
    "tags": []
   },
   "outputs": [],
   "source": [
    "text = \"The goal is to turn data into information, and information into insight.\""
   ]
  },
  {
   "cell_type": "code",
   "execution_count": 12,
   "id": "26365f90-12e7-416f-9729-fef3cd2d57f3",
   "metadata": {},
   "outputs": [],
   "source": [
    "text = text.upper()"
   ]
  },
  {
   "cell_type": "code",
   "execution_count": 13,
   "id": "d5b53289-35a8-46d4-a7a1-d099d890866a",
   "metadata": {
    "tags": []
   },
   "outputs": [],
   "source": [
    "text = text.replace(\".\",\"\")\n",
    "text = text.replace(\",\",\"\")"
   ]
  },
  {
   "cell_type": "code",
   "execution_count": 14,
   "id": "9609c9a9-ce0f-4007-b8c1-9507a7b4b758",
   "metadata": {
    "tags": []
   },
   "outputs": [
    {
     "data": {
      "text/plain": [
       "'THE GOAL IS TO TURN DATA INTO INFORMATION AND INFORMATION INTO INSIGHT'"
      ]
     },
     "execution_count": 14,
     "metadata": {},
     "output_type": "execute_result"
    }
   ],
   "source": [
    "text"
   ]
  },
  {
   "cell_type": "code",
   "execution_count": 20,
   "id": "c45919ca-e103-494b-9264-9a90c36cbfb5",
   "metadata": {
    "tags": []
   },
   "outputs": [],
   "source": [
    "text = text.split(\" \")"
   ]
  },
  {
   "cell_type": "code",
   "execution_count": 23,
   "id": "dbc46a0e-1627-417e-8caa-458a3e38c005",
   "metadata": {
    "tags": []
   },
   "outputs": [
    {
     "data": {
      "text/plain": [
       "['THE',\n",
       " 'GOAL',\n",
       " 'IS',\n",
       " 'TO',\n",
       " 'TURN',\n",
       " 'DATA',\n",
       " 'INTO',\n",
       " 'INFORMATION',\n",
       " 'AND',\n",
       " 'INFORMATION',\n",
       " 'INTO',\n",
       " 'INSIGHT']"
      ]
     },
     "execution_count": 23,
     "metadata": {},
     "output_type": "execute_result"
    }
   ],
   "source": [
    "text"
   ]
  },
  {
   "cell_type": "markdown",
   "id": "1ae4174b-cfe4-4b7c-bbae-70c6ef4b1bae",
   "metadata": {},
   "source": [
    "# Görev 3:   Verilen listeye aşağıdaki adımları uygulayınız."
   ]
  },
  {
   "cell_type": "code",
   "execution_count": 1,
   "id": "12671d40-c354-4126-8d92-acd95a64c398",
   "metadata": {
    "tags": []
   },
   "outputs": [],
   "source": [
    "lst = [\"D\",\"A\",\"T\",\"A\",\"S\",\"C\",\"I\",\"E\",\"N\",\"C\",\"E\"]"
   ]
  },
  {
   "cell_type": "markdown",
   "id": "5e3b4a3c-cb3b-42f7-a8ca-1f171f713aff",
   "metadata": {},
   "source": [
    "Adım 1: Verilen listenin eleman sayısına bakınız."
   ]
  },
  {
   "cell_type": "code",
   "execution_count": 2,
   "id": "35089156-e191-48cc-8e4b-678772f238c7",
   "metadata": {
    "tags": []
   },
   "outputs": [
    {
     "data": {
      "text/plain": [
       "11"
      ]
     },
     "execution_count": 2,
     "metadata": {},
     "output_type": "execute_result"
    }
   ],
   "source": [
    "len(lst)"
   ]
  },
  {
   "cell_type": "markdown",
   "id": "76e8d873-4ee2-4478-b95d-e6476581fd18",
   "metadata": {},
   "source": [
    "Adım 2: Sıfırıncı ve onuncu indeksteki elemanları çağırınız."
   ]
  },
  {
   "cell_type": "code",
   "execution_count": 3,
   "id": "dfc9f011-a8a2-4e2e-9331-84fd465da27f",
   "metadata": {
    "tags": []
   },
   "outputs": [
    {
     "data": {
      "text/plain": [
       "'D'"
      ]
     },
     "execution_count": 3,
     "metadata": {},
     "output_type": "execute_result"
    }
   ],
   "source": [
    "lst[0]"
   ]
  },
  {
   "cell_type": "code",
   "execution_count": 4,
   "id": "df994d52-b526-4beb-b83e-b859dc9c219e",
   "metadata": {
    "tags": []
   },
   "outputs": [
    {
     "data": {
      "text/plain": [
       "'E'"
      ]
     },
     "execution_count": 4,
     "metadata": {},
     "output_type": "execute_result"
    }
   ],
   "source": [
    "lst[10]"
   ]
  },
  {
   "cell_type": "markdown",
   "id": "5fb5e861-310a-464b-a243-3bfdd1da17e5",
   "metadata": {},
   "source": [
    "Adım 3: Verilen liste üzerinden [\"D\", \"A\", \"T\", \"A\"] listesi oluşturunuz."
   ]
  },
  {
   "cell_type": "code",
   "execution_count": 6,
   "id": "db8cc038-3e97-4f04-b77b-0f5996d0d5db",
   "metadata": {
    "tags": []
   },
   "outputs": [
    {
     "data": {
      "text/plain": [
       "['D', 'A', 'T', 'A']"
      ]
     },
     "execution_count": 6,
     "metadata": {},
     "output_type": "execute_result"
    }
   ],
   "source": [
    "lst[:4]"
   ]
  },
  {
   "cell_type": "markdown",
   "id": "c5606ecf-f3fc-4e77-bcb7-17be139cbdbc",
   "metadata": {},
   "source": [
    "Adım 4: Sekizinci indeksteki elemanı siliniz."
   ]
  },
  {
   "cell_type": "code",
   "execution_count": 9,
   "id": "da51cec0-8047-46cd-a05a-3d6dbf373dae",
   "metadata": {
    "tags": []
   },
   "outputs": [],
   "source": [
    "lst.remove(lst[8])"
   ]
  },
  {
   "cell_type": "code",
   "execution_count": 10,
   "id": "1d38f8d0-be25-4503-869e-fd603ae934d2",
   "metadata": {
    "tags": []
   },
   "outputs": [
    {
     "data": {
      "text/plain": [
       "['D', 'A', 'T', 'A', 'S', 'C', 'I', 'E', 'C', 'E']"
      ]
     },
     "execution_count": 10,
     "metadata": {},
     "output_type": "execute_result"
    }
   ],
   "source": [
    "lst"
   ]
  },
  {
   "cell_type": "markdown",
   "id": "f6c56fb4-b743-4ba5-87cf-523346b426da",
   "metadata": {},
   "source": [
    "Adım 5: Yeni bir eleman ekleyiniz."
   ]
  },
  {
   "cell_type": "code",
   "execution_count": 11,
   "id": "f643eb30-ee32-491c-94cf-ca2cd5f1abe2",
   "metadata": {
    "tags": []
   },
   "outputs": [],
   "source": [
    "lst.insert(10,\"X\")"
   ]
  },
  {
   "cell_type": "code",
   "execution_count": 12,
   "id": "d5d78dfc-41ab-4a86-bde7-76244e0cfa55",
   "metadata": {
    "tags": []
   },
   "outputs": [
    {
     "data": {
      "text/plain": [
       "['D', 'A', 'T', 'A', 'S', 'C', 'I', 'E', 'C', 'E', 'X']"
      ]
     },
     "execution_count": 12,
     "metadata": {},
     "output_type": "execute_result"
    }
   ],
   "source": [
    "lst"
   ]
  },
  {
   "cell_type": "markdown",
   "id": "7e0f0f1c-2cb9-4ea9-b5bd-7b5a494887fb",
   "metadata": {},
   "source": [
    "Adım 6: Sekizinci indekse \"N\" elemanını tekrar ekleyiniz."
   ]
  },
  {
   "cell_type": "code",
   "execution_count": 13,
   "id": "2367b062-c96e-4e68-836b-1d1b65b3749e",
   "metadata": {
    "tags": []
   },
   "outputs": [],
   "source": [
    "lst.insert(8,\"N\")"
   ]
  },
  {
   "cell_type": "code",
   "execution_count": 14,
   "id": "668afa53-513d-48b4-a2dc-e65f2ed015b3",
   "metadata": {
    "tags": []
   },
   "outputs": [
    {
     "data": {
      "text/plain": [
       "['D', 'A', 'T', 'A', 'S', 'C', 'I', 'E', 'N', 'C', 'E', 'X']"
      ]
     },
     "execution_count": 14,
     "metadata": {},
     "output_type": "execute_result"
    }
   ],
   "source": [
    "lst"
   ]
  },
  {
   "cell_type": "markdown",
   "id": "ae1b04fb-341e-4a35-9147-06b5f7f2906d",
   "metadata": {},
   "source": [
    "# Görev 4:   Verilen sözlük yapısına aşağıdaki adımları uygulayınız."
   ]
  },
  {
   "cell_type": "code",
   "execution_count": 1,
   "id": "40f9ad8f-5aef-4d72-b777-f627a226c8fd",
   "metadata": {
    "tags": []
   },
   "outputs": [],
   "source": [
    "dict = {'Christian' : [\"America\", 18],\n",
    "        'Daisy' : [\"England\", 12],\n",
    "        'Antonio' : [\"Spain\", 22],\n",
    "        'Dante' : [\"Italy\", 25]}"
   ]
  },
  {
   "cell_type": "markdown",
   "id": "6c34b44f-ec2f-472f-be82-1e5ba00af82d",
   "metadata": {},
   "source": [
    "Adım 1: Key değerlerine erişiniz."
   ]
  },
  {
   "cell_type": "code",
   "execution_count": 2,
   "id": "0f501406-c8a2-4a1e-8114-e34e3012427c",
   "metadata": {
    "tags": []
   },
   "outputs": [
    {
     "name": "stdout",
     "output_type": "stream",
     "text": [
      "Christian\n",
      "Daisy\n",
      "Antonio\n",
      "Dante\n"
     ]
    }
   ],
   "source": [
    "for i in dict.keys():\n",
    "    print(i)"
   ]
  },
  {
   "cell_type": "markdown",
   "id": "dbb31059-18c2-48a6-a3ba-c20e030ec804",
   "metadata": {},
   "source": [
    "Adım 2: Value'lara erişiniz."
   ]
  },
  {
   "cell_type": "code",
   "execution_count": 3,
   "id": "b79b31ce-6d5f-4c4b-b83d-c45dabe59f5c",
   "metadata": {
    "tags": []
   },
   "outputs": [
    {
     "name": "stdout",
     "output_type": "stream",
     "text": [
      "['America', 18]\n",
      "['England', 12]\n",
      "['Spain', 22]\n",
      "['Italy', 25]\n"
     ]
    }
   ],
   "source": [
    "for i in dict.values():\n",
    "    print(i)"
   ]
  },
  {
   "cell_type": "markdown",
   "id": "bc39a6d7-69d6-4c6f-aab2-e9f7e8377fca",
   "metadata": {},
   "source": [
    "Adım 3: Daisy key'ine ait 12 değerini 13 olarak güncelleyiniz."
   ]
  },
  {
   "cell_type": "code",
   "execution_count": 5,
   "id": "daee7a8b-b903-4ba8-9fc3-f6b9057983c6",
   "metadata": {
    "tags": []
   },
   "outputs": [],
   "source": [
    "dict[\"Daisy\"][1] = 13"
   ]
  },
  {
   "cell_type": "code",
   "execution_count": 6,
   "id": "3cf41131-a6c5-4020-a3a4-3c052f543342",
   "metadata": {
    "tags": []
   },
   "outputs": [
    {
     "data": {
      "text/plain": [
       "{'Christian': ['America', 18],\n",
       " 'Daisy': ['England', 13],\n",
       " 'Antonio': ['Spain', 22],\n",
       " 'Dante': ['Italy', 25]}"
      ]
     },
     "execution_count": 6,
     "metadata": {},
     "output_type": "execute_result"
    }
   ],
   "source": [
    "dict"
   ]
  },
  {
   "cell_type": "markdown",
   "id": "c83f9d04-b1c5-4b4f-8a5e-57fac3b61a2b",
   "metadata": {},
   "source": [
    "Adım 4: Key değeri Ahmet value değeri [Turkey,24] olan yeni bir değer ekleyiniz."
   ]
  },
  {
   "cell_type": "code",
   "execution_count": 8,
   "id": "b4fce744-b789-4c10-84d2-49b978942b0e",
   "metadata": {
    "tags": []
   },
   "outputs": [],
   "source": [
    "dict[\"Ahmet\"] = [\"Turkey\",24]"
   ]
  },
  {
   "cell_type": "code",
   "execution_count": 9,
   "id": "dcd1f396-b31b-4d53-87d3-9e066939bb2a",
   "metadata": {
    "tags": []
   },
   "outputs": [
    {
     "data": {
      "text/plain": [
       "{'Christian': ['America', 18],\n",
       " 'Daisy': ['England', 13],\n",
       " 'Antonio': ['Spain', 22],\n",
       " 'Dante': ['Italy', 25],\n",
       " 'Ahmet': ['Turkey', 24]}"
      ]
     },
     "execution_count": 9,
     "metadata": {},
     "output_type": "execute_result"
    }
   ],
   "source": [
    "dict"
   ]
  },
  {
   "cell_type": "markdown",
   "id": "a953c20e-0038-4096-a9c2-0fa6b218ca65",
   "metadata": {},
   "source": [
    "Adım 5: Antonio'yu dictionary'den siliniz."
   ]
  },
  {
   "cell_type": "code",
   "execution_count": 10,
   "id": "918988b8-4629-4470-ba1b-0912225a213b",
   "metadata": {
    "tags": []
   },
   "outputs": [
    {
     "data": {
      "text/plain": [
       "['Spain', 22]"
      ]
     },
     "execution_count": 10,
     "metadata": {},
     "output_type": "execute_result"
    }
   ],
   "source": [
    "dict.pop(\"Antonio\")"
   ]
  },
  {
   "cell_type": "code",
   "execution_count": 11,
   "id": "7d5f2dde-2ad6-4324-bea1-562664a43f84",
   "metadata": {
    "tags": []
   },
   "outputs": [
    {
     "data": {
      "text/plain": [
       "{'Christian': ['America', 18],\n",
       " 'Daisy': ['England', 13],\n",
       " 'Dante': ['Italy', 25],\n",
       " 'Ahmet': ['Turkey', 24]}"
      ]
     },
     "execution_count": 11,
     "metadata": {},
     "output_type": "execute_result"
    }
   ],
   "source": [
    "dict"
   ]
  },
  {
   "cell_type": "markdown",
   "id": "c434e298-d7a3-43b2-93f5-22dc8bc62b1e",
   "metadata": {},
   "source": [
    "## Görev 5: Argüman olarak bir liste alan, listenin içerisindeki tek ve çift sayıları ayrı listelere atayan ve bu listeleri return eden fonksiyon yazınız.\n"
   ]
  },
  {
   "cell_type": "code",
   "execution_count": 2,
   "id": "cfb9329f-9349-4ae6-ad1d-0bca16507e98",
   "metadata": {
    "tags": []
   },
   "outputs": [],
   "source": [
    "l = [2,13,18,93,22]\n",
    "\n",
    "def func(liste):\n",
    "    even_list=[]\n",
    "    odd_list=[]\n",
    "    for i in liste:\n",
    "        if i % 2 == 0:\n",
    "            even_list.append(i)\n",
    "        else:\n",
    "            odd_list.append(i)\n",
    "            \n",
    "    return even_list, odd_list"
   ]
  },
  {
   "cell_type": "code",
   "execution_count": 3,
   "id": "e817e348-0472-4592-9612-a714a2cc502f",
   "metadata": {
    "tags": []
   },
   "outputs": [],
   "source": [
    "even_list, odd_list = func(l)"
   ]
  },
  {
   "cell_type": "code",
   "execution_count": 4,
   "id": "6aefeb7b-08ad-4271-b9a1-d15c68633f47",
   "metadata": {
    "tags": []
   },
   "outputs": [
    {
     "data": {
      "text/plain": [
       "[2, 18, 22]"
      ]
     },
     "execution_count": 4,
     "metadata": {},
     "output_type": "execute_result"
    }
   ],
   "source": [
    "even_list"
   ]
  },
  {
   "cell_type": "code",
   "execution_count": 5,
   "id": "ce1f77c5-c7ee-4dc7-8549-3eab7976084d",
   "metadata": {
    "tags": []
   },
   "outputs": [
    {
     "data": {
      "text/plain": [
       "[13, 93]"
      ]
     },
     "execution_count": 5,
     "metadata": {},
     "output_type": "execute_result"
    }
   ],
   "source": [
    "odd_list"
   ]
  },
  {
   "cell_type": "markdown",
   "id": "427c1583-82c9-4db5-bea6-7257a0301ac9",
   "metadata": {},
   "source": [
    "## Görev 6: Aşağıda verilen listede mühendislik ve tıp fakülterinde dereceye giren öğrencilerin isimleri bulunmaktadır. Sırasıyla ilk üç öğrenci mühendislik fakültesinin başarı sırasını temsil ederken son üç öğrenci de tıp fakültesi öğrenci sırasına aittir. Enumarate kullanarak öğrenci derecelerini fakülte özelinde yazdırınız."
   ]
  },
  {
   "cell_type": "code",
   "execution_count": 6,
   "id": "4ed5d75b-7eae-4f3e-bedd-28346de62f87",
   "metadata": {
    "tags": []
   },
   "outputs": [],
   "source": [
    "ogrenciler = [\"Ali\",\"Veli\",\"Ayşe\",\"Talat\",\"Zeynep\",\"Ece\"]"
   ]
  },
  {
   "cell_type": "code",
   "execution_count": 10,
   "id": "6716c3a5-5764-442c-a74b-aca7072d4dd2",
   "metadata": {
    "tags": []
   },
   "outputs": [
    {
     "name": "stdout",
     "output_type": "stream",
     "text": [
      "Mühendislik Fakültesi 1. öğrenci Ali\n",
      "Mühendislik Fakültesi 2. öğrenci Veli\n",
      "Mühendislik Fakültesi 3. öğrenci Ayşe\n",
      "Tıp Fakültesi 1 öğrenci Talat\n",
      "Tıp Fakültesi 2 öğrenci Zeynep\n",
      "Tıp Fakültesi 3 öğrenci Ece\n"
     ]
    }
   ],
   "source": [
    "\n",
    "for index, student in enumerate(ogrenciler):\n",
    "    if index < 3 :\n",
    "        print(f\"Mühendislik Fakültesi {index+1}. öğrenci {student}\")\n",
    "    else:\n",
    "        print(f\"Tıp Fakültesi {index-2} öğrenci {student}\")\n"
   ]
  },
  {
   "cell_type": "markdown",
   "id": "303145b5-7c48-47a9-bbdf-2c506995a9f9",
   "metadata": {},
   "source": [
    "## Görev 7: Aşağıda 3 adet liste verilmiştir. Listelerde sırası ile bir dersin kodu, kredisi ve kontenjan bilgileri yer almaktadır. Zip kullanarak ders bilgilerini bastırınız."
   ]
  },
  {
   "cell_type": "code",
   "execution_count": 11,
   "id": "5c7913a9-6b5b-4a91-a360-761d3ffff6f4",
   "metadata": {
    "tags": []
   },
   "outputs": [],
   "source": [
    "ders_kodu = [\"CMP1005\",\"PSY1001\",\"HUK1005\",\"SEN2204\"]\n",
    "kredi = [3,4,2,4]\n",
    "kontenyan = [30,75,150,25]"
   ]
  },
  {
   "cell_type": "code",
   "execution_count": 14,
   "id": "ea9819db-f226-4527-80bf-0521d58e842a",
   "metadata": {
    "tags": []
   },
   "outputs": [
    {
     "name": "stdout",
     "output_type": "stream",
     "text": [
      "Kredisi 3 olan CMP1005 kodlu dersin kontenjanı 30 kişidir.\n",
      "Kredisi 4 olan PSY1001 kodlu dersin kontenjanı 75 kişidir.\n",
      "Kredisi 2 olan HUK1005 kodlu dersin kontenjanı 150 kişidir.\n",
      "Kredisi 4 olan SEN2204 kodlu dersin kontenjanı 25 kişidir.\n"
     ]
    }
   ],
   "source": [
    "for i in list(zip(ders_kodu, kredi, kontenyan)):\n",
    "    print(f\"Kredisi {i[1]} olan {i[0]} kodlu dersin kontenjanı {i[2]} kişidir.\")"
   ]
  },
  {
   "cell_type": "markdown",
   "id": "b18c909b-1558-46ed-b2fa-90858cfc5e46",
   "metadata": {},
   "source": [
    "## Görev 8: Aşağıda 2 adet set verilmiştir. Sizden istenilen eğer 1. küme 2. kümeyi kapsiyor ise ortak elemanlarını eğer kapsamıyor ise 2. kümenin 1. kümeden farkını yazdıracak fonksiyonu tanımlamanız beklenmektedir."
   ]
  },
  {
   "cell_type": "code",
   "execution_count": 15,
   "id": "b75e9480-5b29-46dd-9b64-ba6ca3eae554",
   "metadata": {
    "tags": []
   },
   "outputs": [],
   "source": [
    "kume1 = set([\"data\", \"python\"])\n",
    "kume2 = set([\"data\", \"function\", \"qcut\", \"lambda\", \"python\", \"miuul\"])"
   ]
  },
  {
   "cell_type": "code",
   "execution_count": 20,
   "id": "32fe1a81-6cd3-4b8b-9301-8442dd4372a7",
   "metadata": {
    "tags": []
   },
   "outputs": [],
   "source": [
    "def diff(x,y):\n",
    "    if x.issuperset(y):\n",
    "        print(x.intersection(y))\n",
    "    else:\n",
    "        print(y.difference(x))"
   ]
  },
  {
   "cell_type": "code",
   "execution_count": 21,
   "id": "16b05de3-e008-4b4d-858d-893350c94ae2",
   "metadata": {
    "tags": []
   },
   "outputs": [
    {
     "name": "stdout",
     "output_type": "stream",
     "text": [
      "{'qcut', 'lambda', 'miuul', 'function'}\n"
     ]
    }
   ],
   "source": [
    "diff(kume1, kume2)"
   ]
  }
 ],
 "metadata": {
  "kernelspec": {
   "display_name": "Python 3 (ipykernel)",
   "language": "python",
   "name": "python3"
  },
  "language_info": {
   "codemirror_mode": {
    "name": "ipython",
    "version": 3
   },
   "file_extension": ".py",
   "mimetype": "text/x-python",
   "name": "python",
   "nbconvert_exporter": "python",
   "pygments_lexer": "ipython3",
   "version": "3.11.5"
  }
 },
 "nbformat": 4,
 "nbformat_minor": 5
}
