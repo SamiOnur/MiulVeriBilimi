{
 "cells": [
  {
   "cell_type": "code",
   "execution_count": null,
   "id": "5a856a15-f8bf-4dcd-a9fc-9759d9b46a39",
   "metadata": {},
   "outputs": [],
   "source": [
    "for i in df[\"SaleCheckInDayDiff\"]:\n",
    "    if  0 <= df[\"SaleCheckInDayDiff\"][i] < 7:\n",
    "        df[\"SaleCheckInDayDiff\"][i] = \"Last Minuters\"\n",
    "    elif 7 <= df[\"SaleCheckInDayDiff\"][i] < 30:\n",
    "        df[\"SaleCheckInDayDiff\"][i] = \"Potential Planners\"\n",
    "    elif 30 <= df[\"SaleCheckInDayDiff\"][i] < 90:\n",
    "        df[\"SaleCheckInDayDiff\"][i] = \"Planners\"\n",
    "    elif 90 <= df[\"SaleCheckInDayDiff\"][i] :\n",
    "        df[\"SaleCheckInDayDiff\"][i] = \"Early Bookers\""
   ]
  }
 ],
 "metadata": {
  "kernelspec": {
   "display_name": "Python 3 (ipykernel)",
   "language": "python",
   "name": "python3"
  },
  "language_info": {
   "codemirror_mode": {
    "name": "ipython",
    "version": 3
   },
   "file_extension": ".py",
   "mimetype": "text/x-python",
   "name": "python",
   "nbconvert_exporter": "python",
   "pygments_lexer": "ipython3",
   "version": "3.11.5"
  }
 },
 "nbformat": 4,
 "nbformat_minor": 5
}
