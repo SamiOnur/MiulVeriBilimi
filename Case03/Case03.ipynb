{
 "cells": [
  {
   "cell_type": "markdown",
   "id": "2dd24f46-fdfb-4a93-b5be-67377e558f6f",
   "metadata": {},
   "source": [
    "# Görev 1: Aşağıdaki Soruları Yanıtlayınız"
   ]
  },
  {
   "cell_type": "code",
   "execution_count": null,
   "id": "c50749c9-a539-49d5-8be6-3d6692139976",
   "metadata": {},
   "outputs": [],
   "source": []
  },
  {
   "cell_type": "markdown",
   "id": "087a2e98-3459-4055-96da-f0e0c2bc54c5",
   "metadata": {},
   "source": [
    "Soru 1: miuul_gezinomi.xlsx dosyasını okutunuz ve veri seti ile ilgili genel bilgileri gösteriniz.."
   ]
  },
  {
   "cell_type": "code",
   "execution_count": 1,
   "id": "5fcd58cc-19f7-456e-addf-4e8b5fc103da",
   "metadata": {
    "tags": []
   },
   "outputs": [
    {
     "data": {
      "text/html": [
       "<div>\n",
       "<style scoped>\n",
       "    .dataframe tbody tr th:only-of-type {\n",
       "        vertical-align: middle;\n",
       "    }\n",
       "\n",
       "    .dataframe tbody tr th {\n",
       "        vertical-align: top;\n",
       "    }\n",
       "\n",
       "    .dataframe thead th {\n",
       "        text-align: right;\n",
       "    }\n",
       "</style>\n",
       "<table border=\"1\" class=\"dataframe\">\n",
       "  <thead>\n",
       "    <tr style=\"text-align: right;\">\n",
       "      <th></th>\n",
       "      <th>SaleId</th>\n",
       "      <th>SaleDate</th>\n",
       "      <th>CheckInDate</th>\n",
       "      <th>Price</th>\n",
       "      <th>ConceptName</th>\n",
       "      <th>SaleCityName</th>\n",
       "      <th>CInDay</th>\n",
       "      <th>SaleCheckInDayDiff</th>\n",
       "      <th>Seasons</th>\n",
       "    </tr>\n",
       "  </thead>\n",
       "  <tbody>\n",
       "    <tr>\n",
       "      <th>0</th>\n",
       "      <td>415122</td>\n",
       "      <td>2022-12-03</td>\n",
       "      <td>2022-12-03</td>\n",
       "      <td>79.304029</td>\n",
       "      <td>Herşey Dahil</td>\n",
       "      <td>Antalya</td>\n",
       "      <td>Saturday</td>\n",
       "      <td>0</td>\n",
       "      <td>Low</td>\n",
       "    </tr>\n",
       "    <tr>\n",
       "      <th>1</th>\n",
       "      <td>415103</td>\n",
       "      <td>2022-12-03</td>\n",
       "      <td>2022-12-03</td>\n",
       "      <td>45.970696</td>\n",
       "      <td>Yarım Pansiyon</td>\n",
       "      <td>Antalya</td>\n",
       "      <td>Saturday</td>\n",
       "      <td>0</td>\n",
       "      <td>Low</td>\n",
       "    </tr>\n",
       "    <tr>\n",
       "      <th>2</th>\n",
       "      <td>404034</td>\n",
       "      <td>2022-09-12</td>\n",
       "      <td>2022-09-13</td>\n",
       "      <td>77.838828</td>\n",
       "      <td>Herşey Dahil</td>\n",
       "      <td>Antalya</td>\n",
       "      <td>Tuesday</td>\n",
       "      <td>1</td>\n",
       "      <td>High</td>\n",
       "    </tr>\n",
       "    <tr>\n",
       "      <th>3</th>\n",
       "      <td>415094</td>\n",
       "      <td>2022-12-03</td>\n",
       "      <td>2022-12-10</td>\n",
       "      <td>222.710623</td>\n",
       "      <td>Yarım Pansiyon</td>\n",
       "      <td>İzmir</td>\n",
       "      <td>Saturday</td>\n",
       "      <td>7</td>\n",
       "      <td>Low</td>\n",
       "    </tr>\n",
       "    <tr>\n",
       "      <th>4</th>\n",
       "      <td>414951</td>\n",
       "      <td>2022-12-01</td>\n",
       "      <td>2022-12-03</td>\n",
       "      <td>140.476190</td>\n",
       "      <td>Yarım Pansiyon</td>\n",
       "      <td>İzmir</td>\n",
       "      <td>Saturday</td>\n",
       "      <td>2</td>\n",
       "      <td>Low</td>\n",
       "    </tr>\n",
       "  </tbody>\n",
       "</table>\n",
       "</div>"
      ],
      "text/plain": [
       "   SaleId   SaleDate CheckInDate       Price     ConceptName SaleCityName  \\\n",
       "0  415122 2022-12-03  2022-12-03   79.304029    Herşey Dahil      Antalya   \n",
       "1  415103 2022-12-03  2022-12-03   45.970696  Yarım Pansiyon      Antalya   \n",
       "2  404034 2022-09-12  2022-09-13   77.838828    Herşey Dahil      Antalya   \n",
       "3  415094 2022-12-03  2022-12-10  222.710623  Yarım Pansiyon        İzmir   \n",
       "4  414951 2022-12-01  2022-12-03  140.476190  Yarım Pansiyon        İzmir   \n",
       "\n",
       "     CInDay  SaleCheckInDayDiff Seasons  \n",
       "0  Saturday                   0     Low  \n",
       "1  Saturday                   0     Low  \n",
       "2   Tuesday                   1    High  \n",
       "3  Saturday                   7     Low  \n",
       "4  Saturday                   2     Low  "
      ]
     },
     "execution_count": 1,
     "metadata": {},
     "output_type": "execute_result"
    }
   ],
   "source": [
    "import numpy as np\n",
    "import pandas as pd\n",
    "import matplotlib.pyplot as plt\n",
    "df =  pd.read_excel('miuul_gezinomi.xlsx')\n",
    "df.head()"
   ]
  },
  {
   "cell_type": "markdown",
   "id": "48fa387e-d183-4b34-9b94-2290b74f745e",
   "metadata": {},
   "source": [
    "Soru 2: Kaç unique şehir vardır? Frekansları nedir?"
   ]
  },
  {
   "cell_type": "code",
   "execution_count": 2,
   "id": "a1df4988-3054-4b3e-9469-9d4d5cd1425d",
   "metadata": {
    "tags": []
   },
   "outputs": [
    {
     "data": {
      "text/plain": [
       "6"
      ]
     },
     "execution_count": 2,
     "metadata": {},
     "output_type": "execute_result"
    }
   ],
   "source": [
    "df[\"SaleCityName\"].nunique() #Kaç unique şehir olduğunu bulmak için"
   ]
  },
  {
   "cell_type": "code",
   "execution_count": 3,
   "id": "1ce1ed97-733a-440e-a6cd-c1f83b38b040",
   "metadata": {
    "tags": []
   },
   "outputs": [
    {
     "data": {
      "text/plain": [
       "SaleCityName\n",
       "Antalya    31649\n",
       "Aydın      10646\n",
       "Diğer       3245\n",
       "Girne        455\n",
       "Muğla      10662\n",
       "İzmir       2507\n",
       "dtype: int64"
      ]
     },
     "execution_count": 3,
     "metadata": {},
     "output_type": "execute_result"
    }
   ],
   "source": [
    "df.groupby(\"SaleCityName\").size() #Frekansları bulmak için"
   ]
  },
  {
   "cell_type": "markdown",
   "id": "4a62310f-c38c-449f-8591-7358f15727d3",
   "metadata": {},
   "source": [
    "Soru 3: Kaç unique Concept vardır?"
   ]
  },
  {
   "cell_type": "code",
   "execution_count": 4,
   "id": "e507700e-8878-4dee-a865-c2a576b1c735",
   "metadata": {
    "tags": []
   },
   "outputs": [
    {
     "data": {
      "text/plain": [
       "3"
      ]
     },
     "execution_count": 4,
     "metadata": {},
     "output_type": "execute_result"
    }
   ],
   "source": [
    "df[\"ConceptName\"].nunique() "
   ]
  },
  {
   "cell_type": "markdown",
   "id": "faa41241-d621-4bfe-b9b5-4ed2aabd22ac",
   "metadata": {},
   "source": [
    "Soru 4: Hangi Concept’den kaçar tane satış gerçekleşmiş?"
   ]
  },
  {
   "cell_type": "code",
   "execution_count": 5,
   "id": "97466726-e06b-4d52-8346-725baed6ba31",
   "metadata": {
    "tags": []
   },
   "outputs": [
    {
     "data": {
      "text/plain": [
       "ConceptName\n",
       "Herşey Dahil      53186\n",
       "Oda + Kahvaltı     2419\n",
       "Yarım Pansiyon     3559\n",
       "dtype: int64"
      ]
     },
     "execution_count": 5,
     "metadata": {},
     "output_type": "execute_result"
    }
   ],
   "source": [
    "df.groupby(\"ConceptName\").size()"
   ]
  },
  {
   "cell_type": "markdown",
   "id": "edf2a51b-190e-4b99-a908-2b5d198ff817",
   "metadata": {},
   "source": [
    "Soru 5: Şehirlere göre satışlardan toplam ne kadar kazanılmış?"
   ]
  },
  {
   "cell_type": "code",
   "execution_count": 6,
   "id": "00cbfd2f-8f53-4bce-a798-6e39174247d1",
   "metadata": {
    "tags": []
   },
   "outputs": [
    {
     "data": {
      "text/plain": [
       "SaleCityName\n",
       "Antalya    2.041911e+06\n",
       "Aydın      5.732960e+05\n",
       "Diğer      1.545723e+05\n",
       "Girne      2.706503e+04\n",
       "Muğla      6.658422e+05\n",
       "İzmir      1.659348e+05\n",
       "Name: Price, dtype: float64"
      ]
     },
     "execution_count": 6,
     "metadata": {},
     "output_type": "execute_result"
    }
   ],
   "source": [
    "df.groupby(\"SaleCityName\")[\"Price\"].apply(lambda x: np.sum(x))"
   ]
  },
  {
   "cell_type": "markdown",
   "id": "954b1567-a162-4ad7-994c-65fd20302013",
   "metadata": {},
   "source": [
    "Soru 6: Concept türlerine göre göre ne kadar kazanılmış?"
   ]
  },
  {
   "cell_type": "code",
   "execution_count": 7,
   "id": "7e5c47e4-c066-4d3e-aaff-55a0e41e733b",
   "metadata": {
    "tags": []
   },
   "outputs": [
    {
     "data": {
      "text/plain": [
       "ConceptName\n",
       "Herşey Dahil      3.332911e+06\n",
       "Oda + Kahvaltı    1.213084e+05\n",
       "Yarım Pansiyon    1.744024e+05\n",
       "Name: Price, dtype: float64"
      ]
     },
     "execution_count": 7,
     "metadata": {},
     "output_type": "execute_result"
    }
   ],
   "source": [
    "df.groupby(\"ConceptName\")[\"Price\"].apply(lambda x: np.sum(x))"
   ]
  },
  {
   "cell_type": "markdown",
   "id": "d7c2a862-ae85-4302-906a-b9dc387a2af8",
   "metadata": {},
   "source": [
    "Soru 7: Şehirlere göre PRICE ortalamaları nedir?"
   ]
  },
  {
   "cell_type": "code",
   "execution_count": 8,
   "id": "66f20204-9048-430a-80bb-4c78da423ca4",
   "metadata": {
    "tags": []
   },
   "outputs": [
    {
     "data": {
      "text/plain": [
       "SaleCityName\n",
       "Antalya    64.521474\n",
       "Aydın      53.855896\n",
       "Diğer      47.707497\n",
       "Girne      59.483579\n",
       "Muğla      62.461746\n",
       "İzmir      66.267905\n",
       "Name: Price, dtype: float64"
      ]
     },
     "execution_count": 8,
     "metadata": {},
     "output_type": "execute_result"
    }
   ],
   "source": [
    "df.groupby(\"SaleCityName\")[\"Price\"].apply(lambda x: np.mean(x))"
   ]
  },
  {
   "cell_type": "markdown",
   "id": "b543b5e4-06f9-4b24-a504-08be089f640e",
   "metadata": {},
   "source": [
    "Soru 8: Conceptlere göre PRICE ortalamaları nedir?"
   ]
  },
  {
   "cell_type": "code",
   "execution_count": 9,
   "id": "442924de-7d4b-49e4-b7e3-f06ace3b0de1",
   "metadata": {
    "tags": []
   },
   "outputs": [
    {
     "data": {
      "text/plain": [
       "ConceptName\n",
       "Herşey Dahil      62.672260\n",
       "Oda + Kahvaltı    50.252010\n",
       "Yarım Pansiyon    49.030742\n",
       "Name: Price, dtype: float64"
      ]
     },
     "execution_count": 9,
     "metadata": {},
     "output_type": "execute_result"
    }
   ],
   "source": [
    "df.groupby(\"ConceptName\")[\"Price\"].apply(lambda x: np.mean(x))"
   ]
  },
  {
   "cell_type": "markdown",
   "id": "88431c53-a054-4601-9e24-3f1490ccc05a",
   "metadata": {},
   "source": [
    "Soru 9: Şehir-Concept kırılımında PRICE ortalamaları nedir?"
   ]
  },
  {
   "cell_type": "code",
   "execution_count": 10,
   "id": "d530734c-f600-4b07-a60c-89f9d94d28b7",
   "metadata": {
    "tags": []
   },
   "outputs": [
    {
     "data": {
      "text/html": [
       "<div>\n",
       "<style scoped>\n",
       "    .dataframe tbody tr th:only-of-type {\n",
       "        vertical-align: middle;\n",
       "    }\n",
       "\n",
       "    .dataframe tbody tr th {\n",
       "        vertical-align: top;\n",
       "    }\n",
       "\n",
       "    .dataframe thead th {\n",
       "        text-align: right;\n",
       "    }\n",
       "</style>\n",
       "<table border=\"1\" class=\"dataframe\">\n",
       "  <thead>\n",
       "    <tr style=\"text-align: right;\">\n",
       "      <th></th>\n",
       "      <th></th>\n",
       "      <th>Price</th>\n",
       "    </tr>\n",
       "    <tr>\n",
       "      <th>SaleCityName</th>\n",
       "      <th>ConceptName</th>\n",
       "      <th></th>\n",
       "    </tr>\n",
       "  </thead>\n",
       "  <tbody>\n",
       "    <tr>\n",
       "      <th rowspan=\"3\" valign=\"top\">Antalya</th>\n",
       "      <th>Herşey Dahil</th>\n",
       "      <td>64.519028</td>\n",
       "    </tr>\n",
       "    <tr>\n",
       "      <th>Oda + Kahvaltı</th>\n",
       "      <td>63.504816</td>\n",
       "    </tr>\n",
       "    <tr>\n",
       "      <th>Yarım Pansiyon</th>\n",
       "      <td>67.190613</td>\n",
       "    </tr>\n",
       "    <tr>\n",
       "      <th rowspan=\"3\" valign=\"top\">Aydın</th>\n",
       "      <th>Herşey Dahil</th>\n",
       "      <td>53.995467</td>\n",
       "    </tr>\n",
       "    <tr>\n",
       "      <th>Oda + Kahvaltı</th>\n",
       "      <td>34.458787</td>\n",
       "    </tr>\n",
       "    <tr>\n",
       "      <th>Yarım Pansiyon</th>\n",
       "      <td>30.016543</td>\n",
       "    </tr>\n",
       "    <tr>\n",
       "      <th rowspan=\"3\" valign=\"top\">Diğer</th>\n",
       "      <th>Herşey Dahil</th>\n",
       "      <td>84.771093</td>\n",
       "    </tr>\n",
       "    <tr>\n",
       "      <th>Oda + Kahvaltı</th>\n",
       "      <td>37.599082</td>\n",
       "    </tr>\n",
       "    <tr>\n",
       "      <th>Yarım Pansiyon</th>\n",
       "      <td>42.113440</td>\n",
       "    </tr>\n",
       "    <tr>\n",
       "      <th rowspan=\"3\" valign=\"top\">Girne</th>\n",
       "      <th>Herşey Dahil</th>\n",
       "      <td>97.680970</td>\n",
       "    </tr>\n",
       "    <tr>\n",
       "      <th>Oda + Kahvaltı</th>\n",
       "      <td>39.775536</td>\n",
       "    </tr>\n",
       "    <tr>\n",
       "      <th>Yarım Pansiyon</th>\n",
       "      <td>53.247838</td>\n",
       "    </tr>\n",
       "    <tr>\n",
       "      <th rowspan=\"3\" valign=\"top\">Muğla</th>\n",
       "      <th>Herşey Dahil</th>\n",
       "      <td>63.020053</td>\n",
       "    </tr>\n",
       "    <tr>\n",
       "      <th>Oda + Kahvaltı</th>\n",
       "      <td>59.037763</td>\n",
       "    </tr>\n",
       "    <tr>\n",
       "      <th>Yarım Pansiyon</th>\n",
       "      <td>45.120924</td>\n",
       "    </tr>\n",
       "    <tr>\n",
       "      <th rowspan=\"3\" valign=\"top\">İzmir</th>\n",
       "      <th>Herşey Dahil</th>\n",
       "      <td>74.701519</td>\n",
       "    </tr>\n",
       "    <tr>\n",
       "      <th>Oda + Kahvaltı</th>\n",
       "      <td>41.320342</td>\n",
       "    </tr>\n",
       "    <tr>\n",
       "      <th>Yarım Pansiyon</th>\n",
       "      <td>59.610053</td>\n",
       "    </tr>\n",
       "  </tbody>\n",
       "</table>\n",
       "</div>"
      ],
      "text/plain": [
       "                                 Price\n",
       "SaleCityName ConceptName              \n",
       "Antalya      Herşey Dahil    64.519028\n",
       "             Oda + Kahvaltı  63.504816\n",
       "             Yarım Pansiyon  67.190613\n",
       "Aydın        Herşey Dahil    53.995467\n",
       "             Oda + Kahvaltı  34.458787\n",
       "             Yarım Pansiyon  30.016543\n",
       "Diğer        Herşey Dahil    84.771093\n",
       "             Oda + Kahvaltı  37.599082\n",
       "             Yarım Pansiyon  42.113440\n",
       "Girne        Herşey Dahil    97.680970\n",
       "             Oda + Kahvaltı  39.775536\n",
       "             Yarım Pansiyon  53.247838\n",
       "Muğla        Herşey Dahil    63.020053\n",
       "             Oda + Kahvaltı  59.037763\n",
       "             Yarım Pansiyon  45.120924\n",
       "İzmir        Herşey Dahil    74.701519\n",
       "             Oda + Kahvaltı  41.320342\n",
       "             Yarım Pansiyon  59.610053"
      ]
     },
     "execution_count": 10,
     "metadata": {},
     "output_type": "execute_result"
    }
   ],
   "source": [
    "df.groupby([\"SaleCityName\",\"ConceptName\"]).agg({\"Price\":\"mean\"})"
   ]
  },
  {
   "cell_type": "markdown",
   "id": "f42a6b00-bf01-474f-9726-a8a4a7cd100b",
   "metadata": {},
   "source": [
    "# Görev 2: SaleCheckInDayDiff değişkenini kategorik bir değişkene çeviriniz."
   ]
  },
  {
   "cell_type": "markdown",
   "id": "4a98f829-9fbb-4d16-96e3-c9f4a1110bfe",
   "metadata": {},
   "source": [
    "•\tSaleCheckInDayDiff değişkeni müşterinin CheckIn tarihinden ne kadar önce satin alımını tamamladığını gösterir.\n",
    "\n",
    "•\tAralıkları ikna edici şekilde oluşturunuz.\n",
    "Örneğin: ‘0_7’, ‘7_30', ‘30_90', ‘90_max’ aralıklarını kullanabilirsiniz.\n",
    "\n",
    "•\tBu aralıklar için \"Last Minuters\", \"Potential Planners\", \"Planners\", \"Early Bookers“ isimlerini kullanabilirsiniz.\n"
   ]
  },
  {
   "cell_type": "code",
   "execution_count": 11,
   "id": "e76f526d-21d4-479b-90b5-48c0eee3e396",
   "metadata": {
    "tags": []
   },
   "outputs": [
    {
     "name": "stdout",
     "output_type": "stream",
     "text": [
      "<class 'pandas.core.frame.DataFrame'>\n",
      "RangeIndex: 59164 entries, 0 to 59163\n",
      "Data columns (total 9 columns):\n",
      " #   Column              Non-Null Count  Dtype         \n",
      "---  ------              --------------  -----         \n",
      " 0   SaleId              59164 non-null  int64         \n",
      " 1   SaleDate            59164 non-null  datetime64[ns]\n",
      " 2   CheckInDate         59164 non-null  datetime64[ns]\n",
      " 3   Price               59151 non-null  float64       \n",
      " 4   ConceptName         59164 non-null  object        \n",
      " 5   SaleCityName        59164 non-null  object        \n",
      " 6   CInDay              59164 non-null  object        \n",
      " 7   SaleCheckInDayDiff  59164 non-null  int64         \n",
      " 8   Seasons             59164 non-null  object        \n",
      "dtypes: datetime64[ns](2), float64(1), int64(2), object(4)\n",
      "memory usage: 4.1+ MB\n"
     ]
    }
   ],
   "source": [
    "df.info()"
   ]
  },
  {
   "cell_type": "code",
   "execution_count": 15,
   "id": "02c84e69-cc0a-4d17-a22b-c63acb807573",
   "metadata": {
    "tags": []
   },
   "outputs": [],
   "source": [
    "for i in df[\"SaleCheckInDayDiff\"]:\n",
    "    if  i < 7:\n",
    "        df[\"SaleCheckInDay\"] = \"Last Minuters\"\n",
    "    elif 7 <= i < 30:\n",
    "        df[\"SaleCheckInDay\"] = \"Potential Planners\"\n",
    "    elif 30 <= i < 90:\n",
    "        df[\"SaleCheckInDay\"] = \"Planners\"\n",
    "    elif 90 <= i :\n",
    "        df[\"SaleCheckInDay\"] = \"Early Bookers\""
   ]
  },
  {
   "cell_type": "code",
   "execution_count": 16,
   "id": "22951425-df67-4709-b433-4536db0822d7",
   "metadata": {},
   "outputs": [
    {
     "data": {
      "text/html": [
       "<div>\n",
       "<style scoped>\n",
       "    .dataframe tbody tr th:only-of-type {\n",
       "        vertical-align: middle;\n",
       "    }\n",
       "\n",
       "    .dataframe tbody tr th {\n",
       "        vertical-align: top;\n",
       "    }\n",
       "\n",
       "    .dataframe thead th {\n",
       "        text-align: right;\n",
       "    }\n",
       "</style>\n",
       "<table border=\"1\" class=\"dataframe\">\n",
       "  <thead>\n",
       "    <tr style=\"text-align: right;\">\n",
       "      <th></th>\n",
       "      <th>SaleId</th>\n",
       "      <th>SaleDate</th>\n",
       "      <th>CheckInDate</th>\n",
       "      <th>Price</th>\n",
       "      <th>ConceptName</th>\n",
       "      <th>SaleCityName</th>\n",
       "      <th>CInDay</th>\n",
       "      <th>SaleCheckInDayDiff</th>\n",
       "      <th>Seasons</th>\n",
       "      <th>SaleCheckInDay</th>\n",
       "    </tr>\n",
       "  </thead>\n",
       "  <tbody>\n",
       "    <tr>\n",
       "      <th>0</th>\n",
       "      <td>415122</td>\n",
       "      <td>2022-12-03</td>\n",
       "      <td>2022-12-03</td>\n",
       "      <td>79.304029</td>\n",
       "      <td>Herşey Dahil</td>\n",
       "      <td>Antalya</td>\n",
       "      <td>Saturday</td>\n",
       "      <td>0</td>\n",
       "      <td>Low</td>\n",
       "      <td>Early Bookers</td>\n",
       "    </tr>\n",
       "    <tr>\n",
       "      <th>1</th>\n",
       "      <td>415103</td>\n",
       "      <td>2022-12-03</td>\n",
       "      <td>2022-12-03</td>\n",
       "      <td>45.970696</td>\n",
       "      <td>Yarım Pansiyon</td>\n",
       "      <td>Antalya</td>\n",
       "      <td>Saturday</td>\n",
       "      <td>0</td>\n",
       "      <td>Low</td>\n",
       "      <td>Early Bookers</td>\n",
       "    </tr>\n",
       "    <tr>\n",
       "      <th>2</th>\n",
       "      <td>404034</td>\n",
       "      <td>2022-09-12</td>\n",
       "      <td>2022-09-13</td>\n",
       "      <td>77.838828</td>\n",
       "      <td>Herşey Dahil</td>\n",
       "      <td>Antalya</td>\n",
       "      <td>Tuesday</td>\n",
       "      <td>1</td>\n",
       "      <td>High</td>\n",
       "      <td>Early Bookers</td>\n",
       "    </tr>\n",
       "    <tr>\n",
       "      <th>3</th>\n",
       "      <td>415094</td>\n",
       "      <td>2022-12-03</td>\n",
       "      <td>2022-12-10</td>\n",
       "      <td>222.710623</td>\n",
       "      <td>Yarım Pansiyon</td>\n",
       "      <td>İzmir</td>\n",
       "      <td>Saturday</td>\n",
       "      <td>7</td>\n",
       "      <td>Low</td>\n",
       "      <td>Early Bookers</td>\n",
       "    </tr>\n",
       "    <tr>\n",
       "      <th>4</th>\n",
       "      <td>414951</td>\n",
       "      <td>2022-12-01</td>\n",
       "      <td>2022-12-03</td>\n",
       "      <td>140.476190</td>\n",
       "      <td>Yarım Pansiyon</td>\n",
       "      <td>İzmir</td>\n",
       "      <td>Saturday</td>\n",
       "      <td>2</td>\n",
       "      <td>Low</td>\n",
       "      <td>Early Bookers</td>\n",
       "    </tr>\n",
       "    <tr>\n",
       "      <th>...</th>\n",
       "      <td>...</td>\n",
       "      <td>...</td>\n",
       "      <td>...</td>\n",
       "      <td>...</td>\n",
       "      <td>...</td>\n",
       "      <td>...</td>\n",
       "      <td>...</td>\n",
       "      <td>...</td>\n",
       "      <td>...</td>\n",
       "      <td>...</td>\n",
       "    </tr>\n",
       "    <tr>\n",
       "      <th>59159</th>\n",
       "      <td>51817</td>\n",
       "      <td>2016-01-05</td>\n",
       "      <td>2016-10-10</td>\n",
       "      <td>54.304636</td>\n",
       "      <td>Herşey Dahil</td>\n",
       "      <td>Antalya</td>\n",
       "      <td>Monday</td>\n",
       "      <td>279</td>\n",
       "      <td>Low</td>\n",
       "      <td>Early Bookers</td>\n",
       "    </tr>\n",
       "    <tr>\n",
       "      <th>59160</th>\n",
       "      <td>51816</td>\n",
       "      <td>2016-01-05</td>\n",
       "      <td>2016-10-10</td>\n",
       "      <td>54.304636</td>\n",
       "      <td>Herşey Dahil</td>\n",
       "      <td>Antalya</td>\n",
       "      <td>Monday</td>\n",
       "      <td>279</td>\n",
       "      <td>Low</td>\n",
       "      <td>Early Bookers</td>\n",
       "    </tr>\n",
       "    <tr>\n",
       "      <th>59161</th>\n",
       "      <td>51814</td>\n",
       "      <td>2016-01-05</td>\n",
       "      <td>2016-01-06</td>\n",
       "      <td>40.562914</td>\n",
       "      <td>Herşey Dahil</td>\n",
       "      <td>Diğer</td>\n",
       "      <td>Wednesday</td>\n",
       "      <td>1</td>\n",
       "      <td>Low</td>\n",
       "      <td>Early Bookers</td>\n",
       "    </tr>\n",
       "    <tr>\n",
       "      <th>59162</th>\n",
       "      <td>51736</td>\n",
       "      <td>2016-01-04</td>\n",
       "      <td>2016-01-05</td>\n",
       "      <td>69.847682</td>\n",
       "      <td>Yarım Pansiyon</td>\n",
       "      <td>Diğer</td>\n",
       "      <td>Tuesday</td>\n",
       "      <td>1</td>\n",
       "      <td>Low</td>\n",
       "      <td>Early Bookers</td>\n",
       "    </tr>\n",
       "    <tr>\n",
       "      <th>59163</th>\n",
       "      <td>51731</td>\n",
       "      <td>2016-01-04</td>\n",
       "      <td>2016-08-22</td>\n",
       "      <td>158.940397</td>\n",
       "      <td>Herşey Dahil</td>\n",
       "      <td>Antalya</td>\n",
       "      <td>Monday</td>\n",
       "      <td>231</td>\n",
       "      <td>High</td>\n",
       "      <td>Early Bookers</td>\n",
       "    </tr>\n",
       "  </tbody>\n",
       "</table>\n",
       "<p>59164 rows × 10 columns</p>\n",
       "</div>"
      ],
      "text/plain": [
       "       SaleId   SaleDate CheckInDate       Price     ConceptName SaleCityName  \\\n",
       "0      415122 2022-12-03  2022-12-03   79.304029    Herşey Dahil      Antalya   \n",
       "1      415103 2022-12-03  2022-12-03   45.970696  Yarım Pansiyon      Antalya   \n",
       "2      404034 2022-09-12  2022-09-13   77.838828    Herşey Dahil      Antalya   \n",
       "3      415094 2022-12-03  2022-12-10  222.710623  Yarım Pansiyon        İzmir   \n",
       "4      414951 2022-12-01  2022-12-03  140.476190  Yarım Pansiyon        İzmir   \n",
       "...       ...        ...         ...         ...             ...          ...   \n",
       "59159   51817 2016-01-05  2016-10-10   54.304636    Herşey Dahil      Antalya   \n",
       "59160   51816 2016-01-05  2016-10-10   54.304636    Herşey Dahil      Antalya   \n",
       "59161   51814 2016-01-05  2016-01-06   40.562914    Herşey Dahil        Diğer   \n",
       "59162   51736 2016-01-04  2016-01-05   69.847682  Yarım Pansiyon        Diğer   \n",
       "59163   51731 2016-01-04  2016-08-22  158.940397    Herşey Dahil      Antalya   \n",
       "\n",
       "          CInDay  SaleCheckInDayDiff Seasons SaleCheckInDay  \n",
       "0       Saturday                   0     Low  Early Bookers  \n",
       "1       Saturday                   0     Low  Early Bookers  \n",
       "2        Tuesday                   1    High  Early Bookers  \n",
       "3       Saturday                   7     Low  Early Bookers  \n",
       "4       Saturday                   2     Low  Early Bookers  \n",
       "...          ...                 ...     ...            ...  \n",
       "59159     Monday                 279     Low  Early Bookers  \n",
       "59160     Monday                 279     Low  Early Bookers  \n",
       "59161  Wednesday                   1     Low  Early Bookers  \n",
       "59162    Tuesday                   1     Low  Early Bookers  \n",
       "59163     Monday                 231    High  Early Bookers  \n",
       "\n",
       "[59164 rows x 10 columns]"
      ]
     },
     "execution_count": 16,
     "metadata": {},
     "output_type": "execute_result"
    }
   ],
   "source": [
    "df"
   ]
  },
  {
   "cell_type": "code",
   "execution_count": null,
   "id": "8c2536ca-478d-43ef-8199-0e731505beb7",
   "metadata": {},
   "outputs": [],
   "source": []
  }
 ],
 "metadata": {
  "kernelspec": {
   "display_name": "Python 3 (ipykernel)",
   "language": "python",
   "name": "python3"
  },
  "language_info": {
   "codemirror_mode": {
    "name": "ipython",
    "version": 3
   },
   "file_extension": ".py",
   "mimetype": "text/x-python",
   "name": "python",
   "nbconvert_exporter": "python",
   "pygments_lexer": "ipython3",
   "version": "3.11.5"
  }
 },
 "nbformat": 4,
 "nbformat_minor": 5
}
